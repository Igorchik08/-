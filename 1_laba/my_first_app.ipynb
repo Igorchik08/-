{
 "cells": [
  {
   "cell_type": "code",
   "execution_count": 2,
   "metadata": {},
   "outputs": [
    {
     "name": "stdout",
     "output_type": "stream",
     "text": [
      "Igor start programming at 2022-11-16 04:25:25.752212\n"
     ]
    }
   ],
   "source": [
    "from datetime import datetime\n",
    "name = \"Igor\"\n",
    "\n",
    "print(f\"{name} start programming at {datetime.now()}\")"
   ]
  }
 ],
 "metadata": {
  "kernelspec": {
   "display_name": "Python 3.10.7 64-bit",
   "language": "python",
   "name": "python3"
  },
  "language_info": {
   "codemirror_mode": {
    "name": "ipython",
    "version": 3
   },
   "file_extension": ".py",
   "mimetype": "text/x-python",
   "name": "python",
   "nbconvert_exporter": "python",
   "pygments_lexer": "ipython3",
   "version": "3.10.7"
  },
  "orig_nbformat": 4,
  "vscode": {
   "interpreter": {
    "hash": "e4d3d7101dca2ab6b373ea99e5ae5431f7f62d9e918f9a4e65872630023161f0"
   }
  }
 },
 "nbformat": 4,
 "nbformat_minor": 2
}
