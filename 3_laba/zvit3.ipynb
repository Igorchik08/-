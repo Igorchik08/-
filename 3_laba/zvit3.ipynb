{
 "cells": [
  {
   "cell_type": "markdown",
   "metadata": {},
   "source": [
    "        Звіт до роботи \n",
    "        Тема: Знайомство з ООП\n",
    "        Мета роботи: Знайомство з ООП\n",
    "    Виконання роботи\n",
    "    Створення першого class\n",
    "        Створив файл з розширення .py;\n",
    "        Скопіював код наведений у інструкції до роботи;\n",
    "        Виконав код програми;\n",
    "        результат виконання програми:\n",
    "Let's Start!\n",
    ">*<>*<>*<>*<>*<>*<>*<>*<>*<>*<>*<>*<>*<>*<>*<>*<>*<>*<>*<>*<\n",
    "This is object: <__main__.MyName object at 0x0000025EE4FCFA50>\n",
    "This is object attribute: Bohdan / 1\n",
    "This is : My name is Bohdan / Bohdan@itcollege.lviv.ua\n",
    "This is  call: Bohdan@itcollege.lviv.ua\n",
    "This is static  with defaults: You say: Hello to everyone!\n",
    "This is class variable : from class 4 / from object 4\n",
    "<*><*><*><*><*><*><*><*><*><*><*><*><*><*><*><*><*><*><*><*>\n",
    ">*<>*<>*<>*<>*<>*<>*<>*<>*<>*<>*<>*<>*<>*<>*<>*<>*<>*<>*<>*<\n",
    "This is object: <__main__.MyName object at 0x0000025EE4FCFA90>\n",
    "This is object attribute: Marta / 2\n",
    "This is : My name is Marta / Marta@itcollege.lviv.ua\n",
    "This is  call: Marta@itcollege.lviv.ua\n",
    "This is static  with defaults: You say: Hello to everyone!\n",
    "This is class variable : from class 4 / from object 4\n",
    "<*><*><*><*><*><*><*><*><*><*><*><*><*><*><*><*><*><*><*><*>\n",
    ">*<>*<>*<>*<>*<>*<>*<>*<>*<>*<>*<>*<>*<>*<>*<>*<>*<>*<>*<>*<\n",
    "This is object attribute: Anonymous / 4\n",
    "This is : My name is Anonymous / Anonymous@itcollege.lviv.ua\n",
    "This is  call: Anonymous@itcollege.lviv.ua\n",
    "This is static  with defaults: You say: Hello to everyone!\n",
    "This is class variable : from class 4 / from object 4\n",
    "<*><*><*><*><*><*><*><*><*><*><*><*><*><*><*><*><*><*><*><*>\n",
    "We are done. We create 4 names! ??? Why 4?\n",
    "    Ознаймився з кодом програми, проаналізував його роботу;\n",
    "Додав своє імя в список:\n",
    "код програми\n",
    "names = (\"Bohdan\", \"Marta\", None, \"Igor\")\n",
    "        Відповіді на запитання:\n",
    "    Чому коли передаємо значення None створюється обєкт з іменем Anonymous?\n",
    "під час ініціалізації вказано виняток для None, при якому викликається окромий метод MyName.anonymous_user() що створює обєкт класу зі значенням Anonymous;\n",
    "Як змінити текст привітання при виклику методу say_hello()?\n",
    "під час виклику методу обєкта say_hello(), у якості атрибуту можна вказати власний текст повідомлення, що замінить дефолтне значення.\n",
    "me.say_hello(\"changed message here!\")\n",
    "Допишіть функцію в класі яка порахує кількість букв в імені\n",
    "код функції\n",
    "def name_length(self):\n",
    "    return len(self.name)\n",
    "    Порахуйте кількість імен у списку names та порівняйте із виведеним результатом. Дайте відповідь чому маємо різну кількість імен?\n",
    "Коли ми передаємо значення None, викликається метод MyName.anonymous_user(cls), який в свою чергу викликає повторну ініціалізацію обєкту класу. Таким чином вона для значення None виклиаєтсья двічі. Щоб цього запобігти, необхідно інкрементацію суми імен обернути у той самий виняток, коли імя не дорівнію None;\n",
    "Висновок:\n",
    "    В ході роботи я ознаймився з принципом роботи класів, опису його методів та атрибутів, ініціалізації обєктів класу та виклику їх методів;\n",
    "    Так, мету роботи досягнуто.\n",
    "    Всі, згідно вищезазначених завдань\n",
    "    У даній роботі питання відсутні)\n",
    "    Так, вдалось\n",
    "    Ні, не виникало.\n",
    "    Так, подобається."
   ]
  }
 ],
 "metadata": {
  "kernelspec": {
   "display_name": "Python 3.10.7 64-bit",
   "language": "python",
   "name": "python3"
  },
  "language_info": {
   "name": "python",
   "version": "3.10.7"
  },
  "orig_nbformat": 4,
  "vscode": {
   "interpreter": {
    "hash": "e4d3d7101dca2ab6b373ea99e5ae5431f7f62d9e918f9a4e65872630023161f0"
   }
  }
 },
 "nbformat": 4,
 "nbformat_minor": 2
}
